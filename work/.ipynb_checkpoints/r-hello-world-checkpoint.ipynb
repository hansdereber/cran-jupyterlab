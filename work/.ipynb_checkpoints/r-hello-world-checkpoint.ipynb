{
 "cells": [
  {
   "cell_type": "code",
   "execution_count": 1,
   "metadata": {},
   "outputs": [
    {
     "name": "stdout",
     "output_type": "stream",
     "text": [
      "[1] \"Hello World!\"\n",
      "[1] Hello World!\n",
      "[1] \"How are you?\"\n"
     ]
    }
   ],
   "source": [
    "# We can use the print() function\n",
    "print(\"Hello World!\")\n",
    "# Quotes can be suppressed in the output\n",
    "print(\"Hello World!\", quote = FALSE)\n",
    "# If there are more than 1 item, we can concatenate using paste()\n",
    "print(paste(\"How\",\"are\",\"you?\"))"
   ]
  }
 ],
 "metadata": {
  "kernelspec": {
   "display_name": "R",
   "language": "R",
   "name": "ir"
  },
  "language_info": {
   "codemirror_mode": "r",
   "file_extension": ".r",
   "mimetype": "text/x-r-source",
   "name": "R",
   "pygments_lexer": "r",
   "version": "3.6.1"
  }
 },
 "nbformat": 4,
 "nbformat_minor": 4
}
